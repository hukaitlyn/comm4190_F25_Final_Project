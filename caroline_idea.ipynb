{
 "cells": [
  {
   "cell_type": "markdown",
   "id": "f7c32cf2-cec8-4cfa-8728-f707583f3c1c",
   "metadata": {},
   "source": [
    "# Final Pitch Idea\n",
    "## RunMate: your AI running partner for every mile.\n",
    "This chatbot is a friendly AI running coach that turns every jog into a conversation. Many runners—especially students balancing busy schedules—struggle with staying motivated and knowing how to train safely and effectively. RunMate uses a large language model to deliver personalized running plans, pre-run pep talks, and post-run reflections in a natural, conversational way. By chatting with users about their goals, energy levels, or even the weather, it offers encouragement, pacing tips, and recovery reminders—like having a supportive coach and teammate in your pocket."
   ]
  }
 ],
 "metadata": {
  "kernelspec": {
   "display_name": "Python 3-12 (COMM4190)",
   "language": "python",
   "name": "python3-12_comm4190"
  },
  "language_info": {
   "codemirror_mode": {
    "name": "ipython",
    "version": 3
   },
   "file_extension": ".py",
   "mimetype": "text/x-python",
   "name": "python",
   "nbconvert_exporter": "python",
   "pygments_lexer": "ipython3",
   "version": "3.12.12"
  }
 },
 "nbformat": 4,
 "nbformat_minor": 5
}
