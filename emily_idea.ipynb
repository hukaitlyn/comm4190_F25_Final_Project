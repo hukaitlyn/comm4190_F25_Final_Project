{
 "cells": [
  {
   "cell_type": "markdown",
   "id": "04588605-c240-4177-b531-6a8521071848",
   "metadata": {},
   "source": [
    "### Momentum\n",
    "\n",
    "Momentum reimagines fitness apps as conversations rather than commands. Instead of rigid workout plans that don't account for bad days, busy schedules, or changing motivation, this AI assistant adapts in real-time through natural dialogue. Feeling exhausted? It might suggest active recovery instead of your planned HIIT session. Skipped three workouts? It explores what's getting in your way without judgment. The project examines how LLMs can provide the personalization and emotional support that makes fitness sustainable, while also revealing the challenges of using language models to guide physical behavior change over time.\n"
   ]
  }
 ],
 "metadata": {
  "kernelspec": {
   "display_name": "Python 3-12 (COMM4190)",
   "language": "python",
   "name": "python3-12_comm4190"
  },
  "language_info": {
   "codemirror_mode": {
    "name": "ipython",
    "version": 3
   },
   "file_extension": ".py",
   "mimetype": "text/x-python",
   "name": "python",
   "nbconvert_exporter": "python",
   "pygments_lexer": "ipython3",
   "version": "3.12.12"
  }
 },
 "nbformat": 4,
 "nbformat_minor": 5
}
