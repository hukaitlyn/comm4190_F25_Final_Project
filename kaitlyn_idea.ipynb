{
 "cells": [
  {
   "cell_type": "markdown",
   "id": "269d22ca-8d48-479a-9890-574c40577743",
   "metadata": {},
   "source": [
    "# Final Project Idea Pitch\n",
    "#### Your Friendly Path to Financial Independence\n",
    "---\n",
    "\n",
    "`PENNYPATH` – A guide from confusion to confidence with budgeting, saving, and passive income! \n",
    "\n",
    "When I first moved to the U.S. as an international student, I was completely lost switching from using all cash to managing everything with cards, credit scores, and online payments. It took me forever to figure out budgeting, rent, and what to even do with my savings. Now, imagine if there were a smarter, simpler way to learn all that. I want to create an LLM-powered financial coach that helps college students and recent grads “adult” financially — from setting budgets and building credit to learning about taxes, smart spending and passive income, like investing. Through friendly, conversational chats, it breaks down finance jargon into real language, helps users track progress, and suggests next steps that make sense for their stage in life. Whether you’re applying for jobs, paying rent, or just trying to save enough for groceries, [Penny path makes managing money feel less overwhelming — and turns financial confusion into confidence."
   ]
  }
 ],
 "metadata": {
  "kernelspec": {
   "display_name": "Python 3-12 (COMM4190)",
   "language": "python",
   "name": "python3-12_comm4190"
  },
  "language_info": {
   "codemirror_mode": {
    "name": "ipython",
    "version": 3
   },
   "file_extension": ".py",
   "mimetype": "text/x-python",
   "name": "python",
   "nbconvert_exporter": "python",
   "pygments_lexer": "ipython3",
   "version": "3.12.12"
  }
 },
 "nbformat": 4,
 "nbformat_minor": 5
}
